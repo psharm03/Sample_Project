{
 "cells": [
  {
   "cell_type": "markdown",
   "metadata": {},
   "source": [
    "# \\Project Name\\ Data Exploration"
   ]
  },
  {
   "cell_type": "markdown",
   "metadata": {},
   "source": [
    "## by Puneet Sharma"
   ]
  },
  {
   "cell_type": "markdown",
   "metadata": {},
   "source": [
    "## 1 Ask Question about Data\n",
    ">Ask lot of question about data<br>\n",
    "What correlation we want to find out"
   ]
  },
  {
   "cell_type": "markdown",
   "metadata": {},
   "source": [
    "## 2 Wrangle"
   ]
  },
  {
   "cell_type": "code",
   "execution_count": null,
   "metadata": {},
   "outputs": [],
   "source": [
    "# import all packages and set plots to be embedded inline\n",
    "import numpy as np\n",
    "import pandas as pd\n",
    "import matplotlib.pyplot as plt\n",
    "import seaborn as sb\n",
    "\n",
    "%matplotlib inline"
   ]
  },
  {
   "cell_type": "markdown",
   "metadata": {},
   "source": [
    "## Gather"
   ]
  },
  {
   "cell_type": "code",
   "execution_count": null,
   "metadata": {},
   "outputs": [],
   "source": []
  },
  {
   "cell_type": "markdown",
   "metadata": {},
   "source": [
    "## Asses for Quality and Tidiness"
   ]
  },
  {
   "cell_type": "markdown",
   "metadata": {},
   "source": [
    "### Quality\n",
    "> twitter-archive-enhanced.csv\n",
    "    1. timestamp of object type\n",
    "    2. names 'the', 'an' and 'a' (maybe looking from \"This is\" in name and assumed 3rd index is name)\n",
    "    3. doggo floofer pupper puppo None not pandas NULL or NA\n",
    "    4. some ratings are off df.text[313]\n",
    "    5. different rating scale df.text[1634] 143/130 (NO NEED)\n",
    "    5. correct rating num and deno df.loc[516, 'rating_numerator'] = np.nan\n",
    "    6. convert in_reply_to_status_id and in_reply_to_user_id to int64 (NO NEED)\n",
    "    7. multiple entries in expanded urls df.expanded_urls[150]\n",
    "    8. Convert None name to pandas None (NO NEED)\n",
    "\n",
    "> tweet_json.txt\n",
    "    9. 14 tweets got deleted. so missing data\n",
    "    10. column favorite_count should be int\n",
    "    11. column retweet_count should be int\n",
    "    12. convert column created_at to datetime (NO-NEED)\n",
    "    13. correct rating num with decimal values\n",
    "    14. get dog pic url."
   ]
  },
  {
   "cell_type": "markdown",
   "metadata": {},
   "source": [
    "### Tidiness\n",
    "\n",
    "> twitter-archive-enhanced.csv\n",
    "    1. column doggo floofer pupper puppo should be one \"breed\" column\n",
    "    2. take id_str out\n",
    "    3. delete user, full_text column\n",
    "    4. convert display_text_range to length column\n",
    "    5. create new tweet table with columns tweet_id, timestamp/created_at, source/source, text/full_text, expanded_urls, rating_numerator, rating_denominator, display_text_range/length, favorite_count, is_quote_status, lang, retweet_count\n",
    "    6. new column rating_ratio\n",
    "    7. Create new table dog with tweet_id name type(doggo floofer pupper puppo), pic_url, pic_media_id"
   ]
  },
  {
   "cell_type": "code",
   "execution_count": null,
   "metadata": {},
   "outputs": [],
   "source": []
  },
  {
   "cell_type": "markdown",
   "metadata": {},
   "source": [
    "## Clean Data (Define, Code, Test)\n",
    ">Cleaning Column Labels<br>Missing data<br>Duplicates<br>Incorrect data types"
   ]
  },
  {
   "cell_type": "code",
   "execution_count": null,
   "metadata": {},
   "outputs": [],
   "source": []
  },
  {
   "cell_type": "markdown",
   "metadata": {},
   "source": [
    "## 3 Explore"
   ]
  },
  {
   "cell_type": "markdown",
   "metadata": {},
   "source": [
    "### Univariate Exploration\n",
    "> In this section, investigate distributions of individual variables. If you see unusual points or outliers, take a deeper look to clean things up and prepare yourself to look at relationships between variables."
   ]
  },
  {
   "cell_type": "code",
   "execution_count": null,
   "metadata": {},
   "outputs": [],
   "source": []
  },
  {
   "cell_type": "markdown",
   "metadata": {},
   "source": [
    "### Bivariate Exploration\n",
    "> In this section, investigate relationships between pairs of variables in your data. Make sure the variables that you cover here have been introduced in some fashion in the previous section (univariate exploration)"
   ]
  },
  {
   "cell_type": "code",
   "execution_count": null,
   "metadata": {},
   "outputs": [],
   "source": []
  },
  {
   "cell_type": "markdown",
   "metadata": {},
   "source": [
    "### Multivariate Exploration\n",
    "> Create plots of three or more variables to investigate your data even further. Make sure that your investigations are justified, and follow from your work in the previous sections."
   ]
  },
  {
   "cell_type": "code",
   "execution_count": null,
   "metadata": {},
   "outputs": [],
   "source": []
  },
  {
   "cell_type": "markdown",
   "metadata": {},
   "source": [
    "## 4 Draw Conclusion\n",
    ">Gather your findings"
   ]
  },
  {
   "cell_type": "code",
   "execution_count": null,
   "metadata": {},
   "outputs": [],
   "source": []
  },
  {
   "cell_type": "markdown",
   "metadata": {},
   "source": [
    "## 5 Communicate\n",
    ">Reports<br>Slides<br>Blog Post<br>Emails<br>Presentation"
   ]
  },
  {
   "cell_type": "code",
   "execution_count": null,
   "metadata": {},
   "outputs": [],
   "source": []
  }
 ],
 "metadata": {
  "kernelspec": {
   "display_name": "Python 3",
   "language": "python",
   "name": "python3"
  },
  "language_info": {
   "codemirror_mode": {
    "name": "ipython",
    "version": 3
   },
   "file_extension": ".py",
   "mimetype": "text/x-python",
   "name": "python",
   "nbconvert_exporter": "python",
   "pygments_lexer": "ipython3",
   "version": "3.7.4"
  }
 },
 "nbformat": 4,
 "nbformat_minor": 2
}
